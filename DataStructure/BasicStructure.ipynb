{
 "cells": [
  {
   "cell_type": "code",
   "execution_count": 25,
   "id": "1151ac0d",
   "metadata": {},
   "outputs": [
    {
     "name": "stdout",
     "output_type": "stream",
     "text": [
      "('Apple', 1, 2, 3, 4, 4, 5, 'Banana')\n",
      "{1, 2, 3, 4, 5, 'Apple', 'Banana'}\n"
     ]
    },
    {
     "data": {
      "text/plain": [
       "[1, 2, 3, 4, 4, 5, 6, 'Apple', 'Apple', 'Banana']"
      ]
     },
     "execution_count": 25,
     "metadata": {},
     "output_type": "execute_result"
    }
   ],
   "source": [
    "my_tuple=(\"Apple\",1,2,3,4,4,5,'Banana') # in this anaconda python environment only the last command get automatically printed\n",
    "print(my_tuple) # to print else other we need to use print()\n",
    "my_set={'Apple','Apple',1,2,3,4,4,5,5,'Banana','Banana'}\n",
    "print(my_set)\n",
    "my_list=[1,2,3,4,4,5,6,'Apple','Apple','Banana']\n",
    "my_list # main difference between array and list is list can contain mixture of data type but array can only contain similar data types like only the int,char...etc.\n"
   ]
  },
  {
   "cell_type": "code",
   "execution_count": null,
   "id": "3b20879c",
   "metadata": {},
   "outputs": [],
   "source": [
    "my_dictionary={'my_list':[1,2,3,4,4,'Apple'], # You must define inside the dictionary\n",
    "               'my_tuple':(5,5,6,6,7,8,'Banana'),# Dictionary is consist of Key & value\n",
    "               'my_set':{9,9,10,11,12,13,'Cat'}\n",
    "               }"
   ]
  },
  {
   "cell_type": "code",
   "execution_count": 27,
   "id": "f030edb6",
   "metadata": {},
   "outputs": [
    {
     "name": "stdout",
     "output_type": "stream",
     "text": [
      "{'my_list': [1, 2, 3, 4, 5, 'Apple'], 'my_tuple': (5, 5, 6, 6, 7, 8, 'Banana'), 'my_set': {'Cat', 9, 10, 11, 12, 13}}\n"
     ]
    }
   ],
   "source": [
    "my_dictionary['my_list'][4]=5\n",
    "print(my_dictionary)"
   ]
  },
  {
   "cell_type": "code",
   "execution_count": null,
   "id": "0fd53126",
   "metadata": {},
   "outputs": [
    {
     "name": "stdout",
     "output_type": "stream",
     "text": [
      "{'Cat', 9, 10, 11, 12, 13}\n"
     ]
    }
   ],
   "source": [
    "# Value Accessing 01\n",
    "print(my_dictionary.get('my_set')) "
   ]
  },
  {
   "cell_type": "code",
   "execution_count": null,
   "id": "57f5fcf6",
   "metadata": {},
   "outputs": [
    {
     "name": "stdout",
     "output_type": "stream",
     "text": [
      "(5, 5, 6, 6, 7, 8, 'Banana')\n"
     ]
    }
   ],
   "source": [
    "#Value Accessing 02\n",
    "print(my_dictionary['my_tuple'])\n"
   ]
  },
  {
   "cell_type": "code",
   "execution_count": 34,
   "id": "81e7c572",
   "metadata": {},
   "outputs": [
    {
     "name": "stdout",
     "output_type": "stream",
     "text": [
      "Google\n",
      "GOOGLE\n",
      "google\n",
      "************Google************\n"
     ]
    }
   ],
   "source": [
    "# Value Assigning \n",
    "a = 'Google'\n",
    "b = a.upper()\n",
    "c = a.lower()\n",
    "d = a.center(30,'*')\n",
    "print(a)\n",
    "print(b)\n",
    "print(c)\n",
    "print(d)"
   ]
  },
  {
   "cell_type": "code",
   "execution_count": null,
   "id": "4f64cfad",
   "metadata": {},
   "outputs": [],
   "source": []
  }
 ],
 "metadata": {
  "kernelspec": {
   "display_name": "MLDS_MejV_Rec",
   "language": "python",
   "name": "python3"
  },
  "language_info": {
   "codemirror_mode": {
    "name": "ipython",
    "version": 3
   },
   "file_extension": ".py",
   "mimetype": "text/x-python",
   "name": "python",
   "nbconvert_exporter": "python",
   "pygments_lexer": "ipython3",
   "version": "3.12.9"
  }
 },
 "nbformat": 4,
 "nbformat_minor": 5
}
