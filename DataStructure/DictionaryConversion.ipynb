{
 "cells": [
  {
   "cell_type": "code",
   "execution_count": 1,
   "id": "6a8d5f37",
   "metadata": {},
   "outputs": [
    {
     "name": "stdout",
     "output_type": "stream",
     "text": [
      "{'Name': 'MMD', 'Birth': 1824, 'Death': 1873}\n"
     ]
    }
   ],
   "source": [
    "# dictionary can be refered as list of tuples .\n",
    "# List of tuples : \n",
    "my_list=[('Name','MMD'),('Birth',1824),('Death',1873)]\n",
    "my_dictionary=dict(my_list)\n",
    "print(my_dictionary)"
   ]
  },
  {
   "cell_type": "code",
   "execution_count": 2,
   "id": "6dbe9182",
   "metadata": {},
   "outputs": [
    {
     "name": "stdout",
     "output_type": "stream",
     "text": [
      "{'Name': 'MMD', 'Birth': 1824, 'Death': 1873}\n"
     ]
    }
   ],
   "source": [
    "# or if there are two list we can use \"zip\" function \n",
    "my_list1 = ['Name','Birth','Death']\n",
    "my_list2 = ['MMD',1824,1873]\n",
    "my_dictionary = dict(zip(my_list1,my_list2))\n",
    "print(my_dictionary)"
   ]
  },
  {
   "cell_type": "code",
   "execution_count": 3,
   "id": "08027629",
   "metadata": {},
   "outputs": [
    {
     "name": "stdout",
     "output_type": "stream",
     "text": [
      "{0: 'M', 1: 'M', 2: 'D'}\n"
     ]
    }
   ],
   "source": [
    "# if list got no pair like only key or only values we can make the numbers as our keys (1,2,3....)\n",
    "names =['M','M','D']\n",
    "my_dict = {i: name for i, name in enumerate(names)}\n",
    "print(my_dict)\n"
   ]
  }
 ],
 "metadata": {
  "kernelspec": {
   "display_name": "MLDS_MejV_Rec",
   "language": "python",
   "name": "python3"
  },
  "language_info": {
   "codemirror_mode": {
    "name": "ipython",
    "version": 3
   },
   "file_extension": ".py",
   "mimetype": "text/x-python",
   "name": "python",
   "nbconvert_exporter": "python",
   "pygments_lexer": "ipython3",
   "version": "3.12.9"
  }
 },
 "nbformat": 4,
 "nbformat_minor": 5
}
